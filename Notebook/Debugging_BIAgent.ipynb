{
 "cells": [
  {
   "cell_type": "markdown",
   "id": "cd097d99-f261-4dec-b7cf-f99597971dc7",
   "metadata": {},
   "source": [
    "### Stress Points\n",
    "-  If no customer is present and all customer is None then group_method should be `post code level`, else default to `Customer level`\n",
    "-  `BI Agent` -> `Insight Agent`\n",
    "-  Pass the parameters in the chat history, to keep track of parameters during comparison\n",
    "-  Both the agents should be called during comparison\n",
    "-  add a button to clear messages\n",
    "-  remove drivers agent\n",
    "-  Conversation Flow:\n",
    "    - From the top 50 customers by size, please list down top 10 customers with highest cost per pallet in last 6 months\n",
    "    - What is the cost per pallet per month for the last 6 months for ASDA WAL-MART STORES\n",
    "    - What is the average number of pallets per order trends for this customer for the last 6 months\n",
    "    - How I can optimise my costs for this customer in Jan with static consolidation by delivering only 2 days a week\n",
    "\n",
    "- Keep only one version\n",
    "- Fix bugs and error\n",
    "    - To update the prompts according to the latest data available (Make sure date range is same in all)\n",
    "        - Begining with `Prompt1.txt` used in \"BIAgent_Node\"\n",
    "        - Go match in `bi_agent_prompt.txt` used in \"BIAgent_Node\"\n",
    "        - Then go in `cost_parameters_prompt.txt` Used in \"get_chatgpt_response\"\n",
    "        - Then finally check `customer_postcode_matching_prompt.txt` used in \"ask_openai\"\n",
    "    - Fix `get_parameters_values` by making sure all the parameters are extracted accordingly to the question\n",
    "    - No instruction is mentioned on how to extract the customer name from the question.\n",
    "- Validation (BI Agent,)\n",
    "- Extracted parameters from memory (how supervisor should use this memory)\n",
    "- Make supervisor understand, to put more weightage on recent conversation"
   ]
  },
  {
   "cell_type": "code",
   "execution_count": 1,
   "id": "88d6caac-72d6-4c98-87ed-45a5d0ac0dfd",
   "metadata": {},
   "outputs": [],
   "source": [
    "import os\n",
    "import openai\n",
    "import sys\n",
    "import re\n",
    "import uuid\n",
    "import pandas as pd\n",
    "import streamlit as st\n",
    "import functools\n",
    "import warnings\n",
    "from dotenv import load_dotenv, find_dotenv\n",
    "\n",
    "from langgraph.graph import StateGraph, END\n",
    "from langgraph.graph.message import add_messages\n",
    "from typing import TypedDict, Annotated\n",
    "import operator\n",
    "\n",
    "from langgraph.checkpoint.memory import MemorySaver\n",
    "memory = MemorySaver()\n",
    "\n",
    "from langchain_core.messages import AnyMessage, SystemMessage, HumanMessage, ToolMessage, AIMessage\n",
    "from langchain.schema import HumanMessage"
   ]
  },
  {
   "cell_type": "code",
   "execution_count": 2,
   "id": "5e02db13-b1ea-44c4-ab03-38f688c83715",
   "metadata": {},
   "outputs": [],
   "source": [
    "# Define the path to the module directory (only the folder, not the .py file)\n",
    "module_dir = os.path.abspath(\"/Users/ay/Desktop/MultiAgent_Perrigo/Perrigo-genai_v3\")\n",
    "\n",
    "# Add it to sys.path if not already present\n",
    "if module_dir not in sys.path:\n",
    "    sys.path.append(module_dir)\n"
   ]
  },
  {
   "cell_type": "code",
   "execution_count": 3,
   "id": "a1eeb908-79be-4ce0-8d34-583227dea12d",
   "metadata": {},
   "outputs": [
    {
     "name": "stderr",
     "output_type": "stream",
     "text": [
      "2025-04-03 18:56:59.508 WARNING streamlit.runtime.scriptrunner_utils.script_run_context: Thread 'MainThread': missing ScriptRunContext! This warning can be ignored when running in bare mode.\n",
      "2025-04-03 18:56:59.509 WARNING streamlit.runtime.state.session_state_proxy: Session state does not function when running a script without `streamlit run`\n",
      "2025-04-03 18:57:00.127 WARNING streamlit.runtime.scriptrunner_utils.script_run_context: Thread 'MainThread': missing ScriptRunContext! This warning can be ignored when running in bare mode.\n",
      "2025-04-03 18:57:00.565 WARNING streamlit.runtime.scriptrunner_utils.script_run_context: Thread 'MainThread': missing ScriptRunContext! This warning can be ignored when running in bare mode.\n"
     ]
    }
   ],
   "source": [
    "from config import display_saved_plot\n",
    "from src.agents.BIAgent_Node import BIAgent_Class, execute_analysis\n",
    "from src.orchestrater.supervisor import supervisor_chain, members\n",
    "from src.agents.CostOptimization_Node import AgenticCostOptimizer\n",
    "from src.agents.Static_CostOptimization_Node import Static_CostOptimization_Class\n",
    "from src.utils.openai_api import get_supervisor_llm\n",
    "from src.utils.load_templates import load_template\n",
    "from src.core.order_consolidation.consolidation_ui import show_ui_cost_saving_agent, show_ui_cost_saving_agent_static\n",
    "from src.core.order_consolidation.dynamic_consolidation import get_parameters_values,get_chatgpt_response"
   ]
  },
  {
   "cell_type": "code",
   "execution_count": 4,
   "id": "e2dbf43f-40c0-40e3-8200-23b95517927a",
   "metadata": {},
   "outputs": [],
   "source": [
    "from langchain_core.prompts import ChatPromptTemplate, MessagesPlaceholder"
   ]
  },
  {
   "cell_type": "code",
   "execution_count": 5,
   "id": "aede928a-b7d5-42bc-8ead-539c0af9fc59",
   "metadata": {},
   "outputs": [],
   "source": [
    "from IPython.display import display, Image as IPythonImage"
   ]
  },
  {
   "cell_type": "markdown",
   "id": "28cc61ed-b6b8-4a53-a79b-82b6034e86b5",
   "metadata": {},
   "source": [
    "-------"
   ]
  },
  {
   "cell_type": "code",
   "execution_count": 6,
   "id": "c5dc7ad3-f35f-4cb9-a69c-8be43e2af6e7",
   "metadata": {},
   "outputs": [
    {
     "name": "stderr",
     "output_type": "stream",
     "text": [
      "2025-04-03 18:57:00.645 WARNING streamlit.runtime.scriptrunner_utils.script_run_context: Thread 'MainThread': missing ScriptRunContext! This warning can be ignored when running in bare mode.\n"
     ]
    }
   ],
   "source": [
    "# Load environment variables\n",
    "_ = load_dotenv(find_dotenv())\n",
    "\n",
    "llm = get_supervisor_llm()"
   ]
  },
  {
   "cell_type": "code",
   "execution_count": 7,
   "id": "251cf481-0357-428f-ad0d-65b4c89e8cb1",
   "metadata": {},
   "outputs": [],
   "source": [
    "class AgentState(TypedDict):\n",
    "    messages: Annotated[list[AnyMessage], add_messages]\n",
    "    next: str"
   ]
  },
  {
   "cell_type": "code",
   "execution_count": 8,
   "id": "3a25cad1-960f-44fc-8803-79449f963d68",
   "metadata": {},
   "outputs": [],
   "source": [
    "def display_saved_plot2(plot_path: str) -> None:\n",
    "    \"\"\"\n",
    "    Loads and displays a saved plot from the given path using IPython display to prevent non-interactive warnings.\n",
    "\n",
    "    Args:\n",
    "        plot_path (str): Path to the saved plot image.\n",
    "    \"\"\"\n",
    "    if os.path.exists(plot_path):\n",
    "        display(IPythonImage(filename=plot_path))\n",
    "    else:\n",
    "        print(f\"Plot not found at {plot_path}\")"
   ]
  },
  {
   "cell_type": "code",
   "execution_count": 9,
   "id": "d0275656-ce58-462f-85de-406dd926916a",
   "metadata": {},
   "outputs": [],
   "source": [
    "def get_question(state, supervisor_chain):\n",
    "    \"\"\"\n",
    "    Extract a single-line question from the conversation history to pass to an agent.\n",
    "    \"\"\"\n",
    "    all_msg = []\n",
    "    for msg in state['messages']:\n",
    "        all_msg.append(msg.content)\n",
    "\n",
    "    text = f\"\"\"Next agent to be called, use this conversation: {\"\\n\".join(all_msg)} to create a single \n",
    "    line question to be passed next to this agent as a question. Keep track of these parameters while summarising:\n",
    "        start_date;\n",
    "        end_date;\n",
    "        group_method;\n",
    "        all_post_code; \n",
    "        all_customers;\n",
    "        selected_postcodes; \n",
    "        selected_customers;\n",
    "        scenario;\n",
    "        shipment_window_range;\n",
    "        total_shipment_capacity;\n",
    "        utilization_threshold;\n",
    "        .Provide your answer in `direct_response`.\"\"\"\n",
    "    response = supervisor_chain.invoke([HumanMessage(content=text)])\n",
    "    print(\"Inside Get Question; Direct_response\\n\", response['direct_response'])\n",
    "    return response"
   ]
  },
  {
   "cell_type": "code",
   "execution_count": 10,
   "id": "6543142f-817c-41c4-b57d-125b1df628b3",
   "metadata": {},
   "outputs": [],
   "source": [
    "prev_cws = os.getcwd()\n",
    "os.chdir(module_dir)"
   ]
  },
  {
   "cell_type": "code",
   "execution_count": 11,
   "id": "c568be9b-ac3c-4378-b511-dfa8f594db42",
   "metadata": {},
   "outputs": [],
   "source": [
    "question = \"What is the cost per pallet per month for the last 6 months for ASDA WAL-MART STORES?\""
   ]
  },
  {
   "cell_type": "code",
   "execution_count": 12,
   "id": "8dc8dac7-1622-4aac-ab2b-68b3eaff9798",
   "metadata": {},
   "outputs": [
    {
     "name": "stdout",
     "output_type": "stream",
     "text": [
      "You are an AI assistant tasked with analyzing questions and, based on that, providing values for certain variables. List of variables are below:\n",
      "start_date:\n",
      "end_date:\n",
      "group_method:\n",
      "all_post_code: \n",
      "all_customers:\n",
      "selected_postcodes: \n",
      "selected_customers:\n",
      "scenario:\n",
      "shipment_window_range:\n",
      "total_shipment_capacity:\n",
      "utilization_threshold:\n",
      "\n",
      "I will provide you a question to answer. Based on the question you need to provide variable values.\n",
      "\n",
      "Here are some sample questions I would like you to answer:\n",
      "1. How can I optimize the shipment costs for user ALLOGA UK?\n",
      "2. Can you optimize costs for shipments to zip code NG between January and March 2024?\n",
      "3. Optimize shipments for a '3 days delivery scenario' with shipment window range 2 to 8, total shipment capacity 40 and utilization threshold 90.\n",
      "4. Optimize shipment costs for the last6 months.\n",
      "5. Optimize shipment costs for the next6 months.\n",
      "\n",
      "To answer this, first think through your approach:\n",
      "1. Determine the start and end date. The \"SHIPPED_DATE\" column ranges from Jan 2023 to Feb 2025 and is in dd-mm-yyyy format. If not mentioned, then default to start_date as 2023-01-01 and end_date as 2025-02-25.\n",
      "2. If the question mentions relative date expressions such as \"for last6 months\" or \"for next6 months\", first calucate start and end date and then proceed.\n",
      "3. Determine the group_method: either 'Customer Level' or 'Post Code Level'.\n",
      "4. Identify the list of post codes or users mentioned in the question. If none are mentioned, then set:\n",
      "   - all_post_code = False if group_method is 'Post Code Level', otherwise keep it as None.\n",
      "   - all_customers = False if group_method is 'Customer Level', otherwise keep it as None.\n",
      "5. If specific users or zip codes are mentioned, create a list accordingly.\n",
      "6. Identify the scenario or delivery day scenario and choose from: {'5 days delivery scenario', '4 days delivery scenario', '3 days delivery scenario', '2 days delivery scenario', '1 day delivery scenario'}.\n",
      "   If no scenario or delivery day scenario is mentioned, leave it as default (you may decide to leave it as None).\n",
      "7. For shipment_window_range, if not provided, default to (1, 10).\n",
      "8. For total_shipment_capacity, if not provided, default to 36.\n",
      "9. For utilization_threshold, if not provided, default to 95.\n",
      "10. The final output should be in JSON/dictionary format with exactly the following keys (no extra text):\n",
      "\n",
      "{\n",
      "    \"start_date\": \"yyyy-mm-dd\",\n",
      "    \"end_date\": \"yyyy-mm-dd\",\n",
      "    \"group_method\": \"Customer Level\" or \"Post Code Level\",\n",
      "    \"all_post_code\": True/False or None,\n",
      "    \"all_customers\": True/False or None,\n",
      "    \"selected_postcodes\": [],\n",
      "    \"selected_customers\": [],\n",
      "    \"scenario\": one of the specified scenario values or default,\n",
      "    \"shipment_window_range\": (min, max),\n",
      "    \"total_shipment_capacity\": <number>,\n",
      "    \"utilization_threshold\": <number>\n",
      "}\n",
      "\n",
      "For example, for the question \"How can I optimize the shipment costs for user ALLOGA UK.\", the expected output should be:\n",
      "\n",
      "{\n",
      "    \"start_date\": \"2023-01-01\",\n",
      "    \"end_date\": \"2024-11-30\",\n",
      "    \"group_method\": \"Customer Level\",\n",
      "    \"all_post_code\": None,\n",
      "    \"all_customers\": False,\n",
      "    \"selected_postcodes\": [],\n",
      "    \"selected_customers\": [\"ALLOGA UK\"],\n",
      "    \"scenario\": None,\n",
      "    \"shipment_window_range\": [1, 10],\n",
      "    \"total_shipment_capacity\": 36,\n",
      "    \"utilization_threshold\": 95\n",
      "}\n",
      "\n",
      "And for the question \"Can you optimize costs for shipments to zip code NG between January and March 2024?\", the expected output should be:\n",
      "\n",
      "{\n",
      "    \"start_date\": \"2024-01-01\",\n",
      "    \"end_date\": \"2024-03-31\",\n",
      "    \"group_method\": \"Post Code Level\",\n",
      "    \"all_post_code\": False,\n",
      "    \"all_customers\": None,\n",
      "    \"selected_postcodes\": [\"NG\"],\n",
      "    \"selected_customers\": [],\n",
      "    \"scenario\": None,\n",
      "    \"shipment_window_range\": [1, 10],\n",
      "    \"total_shipment_capacity\": 36,\n",
      "    \"utilization_threshold\": 95\n",
      "}\n",
      "\n",
      "Note: If someone mentions \"last month\" or \"recent month\", keep it as Feb 2025, and date format should be: yyyy-mm-dd.\n",
      "\n",
      "Strict instructions: \n",
      "1. Your final output must be exactly a valid JSON dictionary as shown below and nothing else. Do not include any commentary, markdown formatting, or additional text.\n",
      "\n"
     ]
    }
   ],
   "source": [
    "instructions = load_template(\"cost_parameters_prompt.txt\")\n",
    "print(instructions)"
   ]
  },
  {
   "cell_type": "code",
   "execution_count": 13,
   "id": "ddc8e0b7-913f-469a-862c-b698d7b17cde",
   "metadata": {},
   "outputs": [],
   "source": [
    "response = get_chatgpt_response(openai.api_key, instructions, question)"
   ]
  },
  {
   "cell_type": "code",
   "execution_count": 14,
   "id": "d7918bfd-f76e-4977-9d4f-de331d4fa341",
   "metadata": {},
   "outputs": [
    {
     "name": "stdout",
     "output_type": "stream",
     "text": [
      "{\n",
      "    \"start_date\": \"2024-08-01\",\n",
      "    \"end_date\": \"2025-01-31\",\n",
      "    \"group_method\": \"Customer Level\",\n",
      "    \"all_post_code\": None,\n",
      "    \"all_customers\": False,\n",
      "    \"selected_postcodes\": [],\n",
      "    \"selected_customers\": [\"ASDA WAL-MART STORES\"],\n",
      "    \"scenario\": None,\n",
      "    \"shipment_window_range\": [1, 10],\n",
      "    \"total_shipment_capacity\": 36,\n",
      "    \"utilization_threshold\": 95\n",
      "}\n"
     ]
    }
   ],
   "source": [
    "print(response)"
   ]
  },
  {
   "cell_type": "code",
   "execution_count": 15,
   "id": "e540c74b-4c3c-4438-a867-f7ef6f6ccdd1",
   "metadata": {},
   "outputs": [],
   "source": [
    "prompt_template = load_template(\"customer_postcode_matching_prompt.txt\")"
   ]
  },
  {
   "cell_type": "code",
   "execution_count": 16,
   "id": "682bdbb6-dc40-43db-8ae4-c66abf3e74d9",
   "metadata": {},
   "outputs": [
    {
     "name": "stdout",
     "output_type": "stream",
     "text": [
      "['ASDA WAL-MART STORES', 'ASDA WAL-MART STORE']\n",
      "[]\n"
     ]
    }
   ],
   "source": [
    "extracted_params = get_parameters_values(openai.api_key, question,attempt=0)"
   ]
  },
  {
   "cell_type": "code",
   "execution_count": null,
   "id": "27b53a0f-7ce9-4f00-98c5-24eb041c47e1",
   "metadata": {},
   "outputs": [],
   "source": []
  },
  {
   "cell_type": "code",
   "execution_count": null,
   "id": "bd269afc-14bf-4638-a134-b4d8294d4932",
   "metadata": {},
   "outputs": [],
   "source": []
  },
  {
   "cell_type": "code",
   "execution_count": null,
   "id": "5abb7b49-4dd0-4429-976b-d59ba066df16",
   "metadata": {},
   "outputs": [],
   "source": []
  },
  {
   "cell_type": "code",
   "execution_count": 10,
   "id": "e9678d8b-13e8-40f6-82eb-e871edc02b35",
   "metadata": {},
   "outputs": [],
   "source": [
    "from src.orchestrater.MultiAgentGraph import supervisor_node"
   ]
  },
  {
   "cell_type": "code",
   "execution_count": 11,
   "id": "ed95105d-3228-4bfa-90b3-9a7749004028",
   "metadata": {},
   "outputs": [],
   "source": [
    "ques = \"For the top 50 customers by size, please list down top 10 customers with highest cost per pallet in last 6 months\""
   ]
  },
  {
   "cell_type": "code",
   "execution_count": 12,
   "id": "020ebc8e-bf9b-4c96-a5a1-5662c223072a",
   "metadata": {},
   "outputs": [],
   "source": [
    "state = {\"messages\":[HumanMessage(content=ques)],\"next\":\"supervisor\"}"
   ]
  },
  {
   "cell_type": "markdown",
   "id": "16cd0f2b-0743-4361-933c-9b0f57b6abb3",
   "metadata": {},
   "source": [
    "### Flow:\n",
    "- `UserQuestion` -> Add to state -> `supervisor_chain.invoke(state)` -> Route to next of `supervisor_node` -> `BIAgent`\n",
    "  -> question from `get_question` , `extract_params`, `bi_prompt`, `data_description`"
   ]
  },
  {
   "cell_type": "markdown",
   "id": "79b96921-c93a-4786-b7a7-f09eccd7d35c",
   "metadata": {},
   "source": [
    "#### Supervisor Role: prompt and Instructions"
   ]
  },
  {
   "cell_type": "code",
   "execution_count": 13,
   "id": "f414af4b-5de4-429f-b469-dc0a8731a5af",
   "metadata": {},
   "outputs": [
    {
     "name": "stdout",
     "output_type": "stream",
     "text": [
      "You are a Multi-Agent Supervisor responsible for managing the conversation flow between multiple agents.\n",
      "Your role is to analyze user queries and orchestrate responses efficiently by assigning tasks to the appropriate agents.\n",
      "\n",
      "The Supervisor analyzes the conversation history, decides which agent should act next, and routes the conversation accordingly.\n",
      "The Supervisor ensures smooth coordination and task completion by assigning specific roles to agents.\n",
      "\n",
      "You also have the capability to answer simple questions directly without routing to specialized agents.\n",
      "This improves efficiency and user experience for straightforward queries.\n",
      "\n",
      "Use step-by-step reasoning (Chain-of-Thought) before deciding which agent should act next or if you should answer directly.\n",
      "Upon receiving responses, reflect and dynamically adjust the approach using ReAct to ensure an optimal solution.\n",
      "\n",
      "Please try to follow the below mentioned instructions:\n",
      "1. Analyze the user's query and determine the best course of action.\n",
      "2. For simple questions about the system, general information, or clarifications that don't require specialized data analysis, ANSWER DIRECTLY using the \"SELF_RESPONSE\" option.\n",
      "3. For questions requiring data analysis, visualization, or specialized domain knowledge, select an appropriate agent from \"Insights Agent\", \"Dynamic Cost Optimization Agent\", \"Static Cost Optimization Agent\", or \"Generate Scenario Agent\".\n",
      "4. If no further action is required, route the process to \"FINISH\".\n",
      "5. If unsure about the user's intent, request clarification directly using \"SELF_RESPONSE\" before deciding.\n",
      "6. Ensure smooth coordination between agents and track conversation progress.\n",
      "7. Unless specifically mentioned in the user's question, optimization questions should be passed to both \"Dynamic Cost Optimization Agent\" and \"Static Cost Optimization Agent\", and then supervisor should provide comparison from both.\n",
      "8. If questions on comparison of results is asked try to provide same KPIs for comparison, until not specified.\n",
      "9. For the questions involving drivers, call \"Insights Agent\" and assume the response from this to be completed. And ask user for a follow up question.\n",
      "Here is the information about the different agents available:\n",
      "Insights Agent: Insights Agent is responsible for analyzing shipment data to generate insights. \n",
      "         It handles tasks such as performing exploratory data analysis (EDA), calculating summary statistics, \n",
      "         identifying trends, comparing metrics across different dimensions (e.g., users, regions), and generating \n",
      "         visualizations to help understand shipment-related patterns and performance.\n",
      "Dynamic Cost Optimization Agent:  The Dynamic Cost Optimization Agent is responsible for analyzing shipment cost-related data and recommending \n",
      "        strategies to reduce or optimize costs. This agent handles tasks such as identifying cost-saving \n",
      "        opportunities, calculating the optimal number of trips, performing scenario-based cost optimizations \n",
      "        (e.g., varying consolidation windows, truck capacity adjustments), and providing benchmarks and \n",
      "        comparisons between current and optimized operations. The agent also calculates key performance \n",
      "        metrics like cost per pallet, truck utilization rate, and cost savings over time. This agent is \n",
      "        called when the user asks about shipment cost reduction or optimization scenarios.\n",
      "Static Cost Optimization Agent: The Static Cost Optimization Agent is designed to analyze and optimize shipment costs by \n",
      "        evaluating (number of days of delivery) scenarios before and after consolidation. Using a Rate Card (which includes product type, short postcode, and cost per pallet),\n",
      "        the agent calculates the base shipment costs. To maximize cost savings, the agent evaluates multiple delivery\n",
      "        day scenarios (e.g., 5-day, 4-day, or 3-day delivery options).By applying consolidation day mappings, the agent\n",
      "        aggregates shipments into fewer deliveries, reducing overall costs. The results include: Total shipment costs before and after consolidation ,\n",
      "        Percentage savings achieved ,Key metrics such as the number of shipments and average pallets per shipment.\n",
      "        This tool empowers users to identify the most cost-effective delivery strategies while maintaining operational efficiency.\n",
      "Generate Scenario Agent: Generate Scenario Agent is responsible for creating and analyzing \"what-if\" scenarios based on \n",
      "        user-defined parameters. This agent helps compare the outcomes of various decisions or actions, such \n",
      "        as the impact of increasing truck capacity, changing shipment consolidation strategies, or exploring \n",
      "        different operational scenarios. It can model changes in the system and assess the consequences of \n",
      "        those changes to support decision-making and optimization. This agent is called when the user asks \n",
      "        about scenario generation, comparisons of different outcomes, or analysis of hypothetical situations.\n",
      "SELF_RESPONSE: Use this option when you can directly answer the user's question without specialized data analysis.\n",
      "        This is appropriate for:\n",
      "        1. General questions about the system's capabilities\n",
      "        2. Clarification questions\n",
      "        3. Simple information requests that don't require data analysis\n",
      "        4. Explanations of concepts or terms\n",
      "        5. Help with formulating questions for specialized agents\n",
      "        When selecting this option, you should provide a complete, helpful response to the user's query.\n",
      "Think step-by-step before choosing the next agent or deciding to answer directly. \n",
      "\n",
      "Examples of when to use SELF_RESPONSE:\n",
      "- \"Can you explain what the Insights Agentdoes?\"\n",
      "- \"What kind of data does this system analyze?\"\n",
      "- \"I'm not sure how to phrase my question about cost optimization\"\n",
      "- \"What's the difference between Static and Dynamic Cost Optimization?\"\n",
      "\n",
      "Examples of when to route to specialized agents:\n",
      "- \"Analyze the shipment data and tell me which postcode has the highest delivery cost\" (Insights Agent)\n",
      "- \"How can we optimize our delivery schedule to reduce costs?\" (Cost Optimization Agents)\n",
      "- \"What if we increased our truck capacity by 20%?\" (Generate Scenario Agent)\n",
      "\n",
      "If needed, reflect on responses and adjust your approach and finally provide response.\n"
     ]
    }
   ],
   "source": [
    "from langchain_core.prompts import ChatPromptTemplate\n",
    "\n",
    "# Assuming 'supervisor_chain' is your RunnableSequence instance\n",
    "\n",
    "# Iterate through the runnables in the sequence\n",
    "for runnable in supervisor_chain.steps:\n",
    "    if isinstance(runnable, ChatPromptTemplate):\n",
    "        # Access the messages attribute\n",
    "        messages = runnable.messages\n",
    "        # Iterate through messages to find the template\n",
    "        for message in messages:\n",
    "            if hasattr(message, 'prompt') and hasattr(message.prompt, 'template'):\n",
    "                template_message = message.prompt.template\n",
    "                print(template_message)\n",
    "        break\n",
    "else:\n",
    "    print(\"No ChatPromptTemplate found in the RunnableSequence.\")\n"
   ]
  },
  {
   "cell_type": "code",
   "execution_count": 14,
   "id": "5a2ac591-710e-4bc9-b11c-ce4d18898dae",
   "metadata": {},
   "outputs": [],
   "source": [
    "result = supervisor_chain.invoke(state['messages'])"
   ]
  },
  {
   "cell_type": "code",
   "execution_count": 15,
   "id": "6158281f-ebad-477c-9536-df0dc7ea9aa7",
   "metadata": {},
   "outputs": [
    {
     "name": "stdout",
     "output_type": "stream",
     "text": [
      "Question: -\n",
      "For the top 50 customers by size, please list down top 10 customers with highest cost per pallet in last 6 months\n",
      "------------------------------\n",
      "Supervisor Response: -\n",
      "\n",
      "\n",
      "thought_process :\n",
      "The user is asking for an analysis of shipment data to identify the top 10 customers with the highest cost per pallet among the top 50 customers by size over the last 6 months. This requires analyzing shipment data to calculate cost per pallet for each customer and then ranking them. The Insights Agent is best suited for this task as it involves data analysis and comparison of metrics across customers.\n",
      "\n",
      "\n",
      "next : Insights Agent\n",
      "direct_response : \n",
      "------------------------------\n"
     ]
    }
   ],
   "source": [
    "print(f\"Question: -\\n{ques}\")\n",
    "print(\"-\"*30)\n",
    "print(f\"Supervisor Response: -\")\n",
    "print(\"\\n\")\n",
    "for k,v in result.items():\n",
    "    if k=='thought_process':\n",
    "        print(k,v,sep=\" :\\n\")\n",
    "        print(\"\\n\")\n",
    "        continue\n",
    "    print(k,v,sep=\" : \")\n",
    "print(\"-\"*30)"
   ]
  },
  {
   "cell_type": "markdown",
   "id": "ae25a195-16a7-4ca9-b238-5a5371a47620",
   "metadata": {},
   "source": [
    "### Going inside `Insights Agent`\n"
   ]
  },
  {
   "cell_type": "code",
   "execution_count": 17,
   "id": "f46607c0-c51b-4b7a-b978-3c6e9cd64267",
   "metadata": {},
   "outputs": [],
   "source": [
    "data_path = os.path.join(module_dir,\"src\", \"data\", \"Outbound_Data.csv\")\n",
    "df = pd.read_csv(data_path)\n",
    "\n",
    "# Load data description\n",
    "data_description = load_template(\"Outbound_data.txt\")\n",
    "\n",
    "# Load BI Agent prompt\n",
    "bi_prompt = load_template(\"bi_agent_prompt.txt\")\n",
    "\n",
    "# Define helper functions\n",
    "helper_functions = {\"execute_analysis\": execute_analysis}\n",
    "\n",
    "# Initialize BI Agent\n",
    "agent_instance = BIAgent_Class(\n",
    "    llm=llm, \n",
    "    prompt=bi_prompt, \n",
    "    tools=[], \n",
    "    data_description=data_description, \n",
    "    dataset=df, \n",
    "    helper_functions=helper_functions\n",
    ")"
   ]
  },
  {
   "cell_type": "code",
   "execution_count": 24,
   "id": "b99c5855-9a64-4dd7-a995-2f395610bfe4",
   "metadata": {},
   "outputs": [],
   "source": [
    "from jinja2 import Template"
   ]
  },
  {
   "cell_type": "code",
   "execution_count": 27,
   "id": "a1811ef1-de4a-4efb-b1f5-304347cbb81a",
   "metadata": {},
   "outputs": [
    {
     "name": "stdout",
     "output_type": "stream",
     "text": [
      "Here is an example of what one row of the data looks like in json format but I will provide you with first 5 rows of the dataframe inside <data> tags:\n",
      "{{\n",
      "      \"PROD_TYPE\": \"AMBCONTROL\",\n",
      "      \"Customer\": \"GR & MM BLACKLEDGE PLC\", \n",
      "      \"SHIPPED_DATE\": \"01-01-2024\",\n",
      "      \"Total_Orders\": 2,\n",
      "      \"Total_Pallets\": 2,\n",
      "      \"Distance\": 134.5,\n",
      "      \"Cost\": 102.8,\n",
      "      \"SHORT_POSTCODE\": \"PR\"}}\n",
      "\n",
      "<data>\n",
      "{{df.head().to_string()}}\n",
      "</data>\n",
      "\n",
      "Some key things to note about the data:\n",
      "- The \"PROD_TYPE\" column includes 2 values, either \"AMBIENT\" or \"AMBCONTROL\"\n",
      "- The \"SHIPPED_DATE\" column ranges from Jan 2023 to Feb 2025 and is in dd-mm-yyyy format\n",
      "- The \"Cost\" is in Pounds(£)\n"
     ]
    }
   ],
   "source": [
    "print(data_description)"
   ]
  },
  {
   "cell_type": "code",
   "execution_count": null,
   "id": "c856c264-4fa1-4080-9b35-d0ea5d37c386",
   "metadata": {},
   "outputs": [],
   "source": []
  },
  {
   "cell_type": "code",
   "execution_count": null,
   "id": "3141428c-bdc0-4b02-abe9-624bdb350142",
   "metadata": {},
   "outputs": [],
   "source": []
  },
  {
   "cell_type": "code",
   "execution_count": null,
   "id": "f7c137a8-835a-4d02-b1a0-155171fcc55a",
   "metadata": {},
   "outputs": [],
   "source": []
  },
  {
   "cell_type": "code",
   "execution_count": null,
   "id": "209f8075-6cc2-444e-963d-5622a6eadf80",
   "metadata": {},
   "outputs": [],
   "source": []
  },
  {
   "cell_type": "code",
   "execution_count": 18,
   "id": "eec7c772-59c5-4664-9c0f-678d11e0e013",
   "metadata": {},
   "outputs": [],
   "source": [
    "current_state = {\"messages\": [AIMessage(content=result.get('thought_process'))], \"next\": result.get('next')}\n",
    "state['messages'] = add_messages(state['messages'], current_state['messages'])\n",
    "state['next'] = current_state['next']"
   ]
  },
  {
   "cell_type": "code",
   "execution_count": 19,
   "id": "92879d6f-06db-4707-bd74-680f3de3e376",
   "metadata": {},
   "outputs": [
    {
     "name": "stdout",
     "output_type": "stream",
     "text": [
      "Messages in current state:\n",
      "\n",
      "------------------------------\n",
      "1 . For the top 50 customers by size, please list down top 10 customers with highest cost per pallet in last 6 months\n",
      "\n",
      "2 . The user is asking for an analysis of shipment data to identify the top 10 customers with the highest cost per pallet among the top 50 customers by size over the last 6 months. This requires analyzing shipment data to calculate cost per pallet for each customer and then ranking them. The Insights Agent is best suited for this task as it involves data analysis and comparison of metrics across customers.\n",
      "\n",
      "------------------------------\n",
      "Next node to go: Insights Agent\n"
     ]
    }
   ],
   "source": [
    "print(\"Messages in current state:\\n\")\n",
    "print(\"-\"*30)\n",
    "for i,msg in enumerate(state['messages']):\n",
    "    print(i+1,\".\",msg.content,end='\\n\\n')\n",
    "print(\"-\"*30)\n",
    "print(f\"Next node to go: {current_state['next']}\")"
   ]
  },
  {
   "cell_type": "markdown",
   "id": "9dccf36e-d484-4e64-9c98-35c6a4c7a5ff",
   "metadata": {},
   "source": [
    "- Get a single line question using `get_question` from all the previous state['messages'] by passing these to supervisor_chain to summarise."
   ]
  },
  {
   "cell_type": "code",
   "execution_count": 20,
   "id": "3b9a0d38-edfa-4a0f-971d-f4c8756bd3a6",
   "metadata": {},
   "outputs": [
    {
     "name": "stdout",
     "output_type": "stream",
     "text": [
      "Inside Get Question; Direct_response\n",
      " Analyze shipment data from the last 6 months to identify the top 10 customers with the highest cost per pallet among the top 50 customers by size.\n"
     ]
    }
   ],
   "source": [
    "response = get_question(state,supervisor_chain)"
   ]
  },
  {
   "cell_type": "code",
   "execution_count": 21,
   "id": "603296bf-7742-4558-81b0-3de17ee60f23",
   "metadata": {},
   "outputs": [
    {
     "name": "stdout",
     "output_type": "stream",
     "text": [
      "Question: -\n",
      "For the top 50 customers by size, please list down top 10 customers with highest cost per pallet in last 6 months\n",
      "------------------------------\n",
      "Supervisor Response: -\n",
      "\n",
      "\n",
      "thought_process :\n",
      "The user is asking for an analysis of shipment data to identify the top 10 customers with the highest cost per pallet among the top 50 customers by size over the last 6 months. This requires analyzing shipment data to calculate cost per pallet for each customer and then ranking them. The Insights Agent is best suited for this task as it involves data analysis and comparison of metrics across customers.\n",
      "\n",
      "\n",
      "next : Insights Agent\n",
      "direct_response : Analyze shipment data from the last 6 months to identify the top 10 customers with the highest cost per pallet among the top 50 customers by size.\n",
      "------------------------------\n"
     ]
    }
   ],
   "source": [
    "print(f\"Question: -\\n{ques}\")\n",
    "print(\"-\"*30)\n",
    "print(f\"Supervisor Response: -\")\n",
    "print(\"\\n\")\n",
    "for k,v in response.items():\n",
    "    if k=='thought_process':\n",
    "        print(k,v,sep=\" :\\n\")\n",
    "        print(\"\\n\")\n",
    "        continue\n",
    "    print(k,v,sep=\" : \")\n",
    "print(\"-\"*30)"
   ]
  },
  {
   "cell_type": "code",
   "execution_count": 22,
   "id": "532681b5-8ceb-49ea-8768-2af9368a4a93",
   "metadata": {},
   "outputs": [
    {
     "name": "stdout",
     "output_type": "stream",
     "text": [
      "Question to be passed into `BIAgent`:\n",
      "\n",
      "Analyze shipment data from the last 6 months to identify the top 10 customers with the highest cost per pallet among the top 50 customers by size.\n"
     ]
    }
   ],
   "source": [
    "question = response['direct_response']\n",
    "print(f\"Question to be passed into `BIAgent`:\\n\\n{question}\")"
   ]
  },
  {
   "cell_type": "markdown",
   "id": "ae84d751-b28e-474a-a7aa-f0832a6f27e5",
   "metadata": {},
   "source": [
    "#### Now we will enrich this question with the parameters to be used:"
   ]
  },
  {
   "cell_type": "code",
   "execution_count": 23,
   "id": "461d290c-5183-4c67-824c-88894d90a343",
   "metadata": {},
   "outputs": [
    {
     "name": "stdout",
     "output_type": "stream",
     "text": [
      "Extract parameters for 'Analyze shipment data from the last 6 months to identify the top 10 customers with the highest cost per pallet among the top 50 customers by size.' from question prompt:\n",
      "\n",
      "------------------------------------------------------------------------------------------\n",
      "You are an AI assistant tasked with analyzing questions and, based on that, providing values for certain variables. List of variables are below:\n",
      "start_date:\n",
      "end_date:\n",
      "group_method:\n",
      "all_post_code: \n",
      "all_customers:\n",
      "selected_postcodes: \n",
      "selected_customers:\n",
      "scenario:\n",
      "shipment_window_range:\n",
      "total_shipment_capacity:\n",
      "utilization_threshold:\n",
      "\n",
      "I will provide you a question to answer. Based on the question you need to provide variable values.\n",
      "\n",
      "Here are some sample questions I would like you to answer:\n",
      "1. How can I optimize the shipment costs for user ALLOGA UK?\n",
      "2. Can you optimize costs for shipments to zip code NG between January and March 2024?\n",
      "3. Optimize shipments for a '3 days delivery scenario' with shipment window range 2 to 8, total shipment capacity 40 and utilization threshold 90.\n",
      "4. Optimize shipment costs for the last6 months.\n",
      "5. Optimize shipment costs for the next6 months.\n",
      "\n",
      "To answer this, first think through your approach:\n",
      "1. Determine the start and end date. The \"SHIPPED_DATE\" column ranges from Jan 2023 to Feb 2025 and is in dd-mm-yyyy format. If not mentioned, then default to start_date as 2023-01-01 and end_date as 2025-02-25.\n",
      "2. If the question mentions relative date expressions such as \"for last6 months\" or \"for next6 months\", first calucate start and end date and then proceed.\n",
      "3. Determine the group_method: either 'Customer Level' or 'Post Code Level'.\n",
      "4. Identify the list of post codes or users mentioned in the question. If none are mentioned, then set:\n",
      "   - all_post_code = False if group_method is 'Post Code Level', otherwise keep it as None.\n",
      "   - all_customers = False if group_method is 'Customer Level', otherwise keep it as None.\n",
      "5. If specific users or zip codes are mentioned, create a list accordingly.\n",
      "6. For scenario, choose from: {'5 days delivery scenario', '4 days delivery scenario', '3 days delivery scenario', '2 days delivery scenario', '1 day delivery scenario'}.\n",
      "   If no scenario is mentioned, leave it as default (you may decide to leave it as None).\n",
      "7. For shipment_window_range, if not provided, default to (1, 10).\n",
      "8. For total_shipment_capacity, if not provided, default to 36.\n",
      "9. For utilization_threshold, if not provided, default to 95.\n",
      "10. The final output should be in JSON/dictionary format with exactly the following keys (no extra text):\n",
      "\n",
      "{\n",
      "    \"start_date\": \"yyyy-mm-dd\",\n",
      "    \"end_date\": \"yyyy-mm-dd\",\n",
      "    \"group_method\": \"Customer Level\" or \"Post Code Level\",\n",
      "    \"all_post_code\": True/False or None,\n",
      "    \"all_customers\": True/False or None,\n",
      "    \"selected_postcodes\": [],\n",
      "    \"selected_customers\": [],\n",
      "    \"scenario\": one of the specified scenario values or default,\n",
      "    \"shipment_window_range\": (min, max),\n",
      "    \"total_shipment_capacity\": <number>,\n",
      "    \"utilization_threshold\": <number>\n",
      "}\n",
      "\n",
      "For example, for the question \"How can I optimize the shipment costs for user ALLOGA UK.\", the expected output should be:\n",
      "\n",
      "{\n",
      "    \"start_date\": \"2023-01-01\",\n",
      "    \"end_date\": \"2024-11-30\",\n",
      "    \"group_method\": \"Customer Level\",\n",
      "    \"all_post_code\": None,\n",
      "    \"all_customers\": False,\n",
      "    \"selected_postcodes\": [],\n",
      "    \"selected_customers\": [\"ALLOGA UK\"],\n",
      "    \"scenario\": None,\n",
      "    \"shipment_window_range\": [1, 10],\n",
      "    \"total_shipment_capacity\": 36,\n",
      "    \"utilization_threshold\": 95\n",
      "}\n",
      "\n",
      "And for the question \"Can you optimize costs for shipments to zip code NG between January and March 2024?\", the expected output should be:\n",
      "\n",
      "{\n",
      "    \"start_date\": \"2024-01-01\",\n",
      "    \"end_date\": \"2024-03-31\",\n",
      "    \"group_method\": \"Post Code Level\",\n",
      "    \"all_post_code\": False,\n",
      "    \"all_customers\": None,\n",
      "    \"selected_postcodes\": [\"NG\"],\n",
      "    \"selected_customers\": [],\n",
      "    \"scenario\": None,\n",
      "    \"shipment_window_range\": [1, 10],\n",
      "    \"total_shipment_capacity\": 36,\n",
      "    \"utilization_threshold\": 95\n",
      "}\n",
      "\n",
      "Note: If someone mentions \"last month\" or \"recent month\", keep it as November 2024, and date format should be: yyyy-mm-dd.\n",
      "\n",
      "Strict instructions: \n",
      "1. Your final output must be exactly a valid JSON dictionary as shown below and nothing else. Do not include any commentary, markdown formatting, or additional text.\n",
      "\n",
      "------------------------------------------------------------------------------------------\n",
      "Extracted Parameters:\n",
      "{\n",
      "    \"start_date\": \"2024-05-01\",\n",
      "    \"end_date\": \"2024-10-31\",\n",
      "    \"group_method\": \"Customer Level\",\n",
      "    \"all_post_code\": None,\n",
      "    \"all_customers\": True,\n",
      "    \"selected_postcodes\": [],\n",
      "    \"selected_customers\": [],\n",
      "    \"scenario\": None,\n",
      "    \"shipment_window_range\": [1, 10],\n",
      "    \"total_shipment_capacity\": 36,\n",
      "    \"utilization_threshold\": 95\n",
      "}\n",
      "[]\n",
      "[]\n",
      "start_date : 2024-05-01\n",
      "end_date : 2024-10-31\n",
      "group_method : Customer Level\n",
      "all_post_code : None\n",
      "all_customers : True\n",
      "selected_postcodes : []\n",
      "selected_customers : []\n",
      "scenario : None\n",
      "shipment_window_range : [1, 10]\n",
      "total_shipment_capacity : 36\n",
      "utilization_threshold : 95\n"
     ]
    }
   ],
   "source": [
    "print(f\"Extract parameters for '{question}' from question prompt:\\n\")\n",
    "print(\"-\"*30*3)\n",
    "print(load_template(\"cost_parameters_prompt.txt\"))\n",
    "print(\"-\"*30*3)\n",
    "print(\"Extracted Parameters:\")\n",
    "extracted_params = get_parameters_values(openai.api_key, question,attempt=0)\n",
    "for k,v in extracted_params.items():\n",
    "    print(k,v,sep=\" : \")"
   ]
  },
  {
   "cell_type": "code",
   "execution_count": 24,
   "id": "9071711a-66be-453d-afea-54f67ad38418",
   "metadata": {},
   "outputs": [
    {
     "name": "stdout",
     "output_type": "stream",
     "text": [
      "You are an AI assistant tasked with analyzing a dataset to provide code for calculating the final answer and generating relevant visualization.\n",
      "I will provide you with the data in dataframe format, as well as a question to answer based on the data.\n",
      "\n",
      "\n",
      "Here is an example of what one row of the data looks like in json format but I will provide you with first 5 rows of the dataframe inside <data> tags:\n",
      "{{\n",
      "      \"PROD_TYPE\": \"AMBCONTROL\",\n",
      "      \"Customer\": \"GR & MM BLACKLEDGE PLC\", \n",
      "      \"SHIPPED_DATE\": \"01-01-2024\",\n",
      "      \"Total_Orders\": 2,\n",
      "      \"Total_Pallets\": 2,\n",
      "      \"Distance\": 134.5,\n",
      "      \"Cost\": 102.8,\n",
      "      \"SHORT_POSTCODE\": \"PR\"}}\n",
      "\n",
      "<data>\n",
      "{{df.head().to_string()}}\n",
      "</data>\n",
      "\n",
      "Some key things to note about the data:\n",
      "- The \"PROD_TYPE\" column includes 2 values, either \"AMBIENT\" or \"AMBCONTROL\"\n",
      "- The \"SHIPPED_DATE\" column ranges from Jan 2023 to Feb 2025 and is in dd-mm-yyyy format\n",
      "- The \"Cost\" is in Pounds(£)\n",
      "\n",
      "Here is the question I would like you to answer using this data:\n",
      "<question>\n",
      "Analyze shipment data from the last 6 months to identify the top 10 customers with the highest cost per pallet among the top 50 customers by size.Use these parameters to filter data: {'start_date': '2024-05-01', 'end_date': '2024-10-31', 'group_method': 'Customer Level', 'all_post_code': None, 'all_customers': True, 'selected_postcodes': [], 'selected_customers': [], 'scenario': None, 'shipment_window_range': [1, 10], 'total_shipment_capacity': 36, 'utilization_threshold': 95}\n",
      "</question>\n",
      "\n",
      "To answer this, first think through your approach inside <approach> tags. Break down the steps you\n",
      "will need to take and consider which columns of the data will be most relevant. Here is an example:\n",
      "<approach>\n",
      "To answer this question, I will need to:\n",
      "1. Calculate the total number of orders and pallets across all rows\n",
      "2. Determine the average distance and cost per order\n",
      "3. Identify the most common PROD_TYPE and SHORT_POSTCODE\n",
      "</approach>\n",
      "\n",
      "Then, write the Python code needed to analyze the data and calculate the final answer inside <code> tags. Assume input dataframe as 'df'\n",
      "Be sure to include any necessary data manipulation, aggregations, filtering, etc. Return only the Python code without any explanation or markdown formatting.\n",
      "For decimal answers round them to 1 decimal place.\n",
      "\n",
      "Generate Python code using matplotlib and/or seaborn to create an appropriate chart to visualize the relevant data and support your answer.\n",
      "\n",
      "For example, \n",
      "1. If user is asking for postcode with highest cost then a relevant chart can be a bar chart showing top 10 postcodes with highest total cost arranged in decreasing order.\n",
      "\n",
      "2. For the questions involving drivers,you MUST analyze using ONLY one of these below metrics and provide overview including all of them:\n",
      "\n",
      "    Pallets per Order = sum(PALLETS)/sum(ORDERS)\n",
      "    Pallets per Distance = sum(PALLETS)/sum(DISTANCE_KM) [in km]\n",
      "    Average Distance = sum(DISTANCE_KM)/sum(ORDERS)\n",
      "\n",
      "    For visualization of driver related questions, for above chosen metrics display it in the form of chart as below given.\n",
      "    Title: \"Driver Analysis: [Metric] vs [Metric]\"\n",
      "    Axis labels WITH UNITS (km, $, pallets)\n",
      "    Rotated x-labels (45°) when >5 items\n",
      "    figsize=(8,5) for multi-driver charts\n",
      "    sns.set_style(\"whitegrid\")\n",
      "\n",
      "\n",
      "\n",
      "\n",
      "Specify the chart code inside <chart> tags.\n",
      "When working with dates:\n",
      "\n",
      "Always convert dates to datetime using pd.to_datetime() with explicit format\n",
      "For grouping by month, use dt.strftime('%Y-%m') instead of dt.to_period()\n",
      "Sort date-based results chronologically before plotting\n",
      "\n",
      "The visualization code should follow these guidelines:\n",
      "\n",
      "Start with these required imports:\n",
      "\n",
      "import pandas as pd\n",
      "import matplotlib.pyplot as plt\n",
      "import seaborn as sns\n",
      "\n",
      "Use adaptive chart setup:\n",
      "# Set dynamic figure size based on data\n",
      "num_categories = min(10, len(data_to_plot))  # Show max 10 items by default\n",
      "base_width = 8  # Minimum width\n",
      "width_per_category = 1.2  # Additional width per category\n",
      "fig_width = max(base_width, num_categories * width_per_category)\n",
      "fig_height = 6  # Base height\n",
      "plt.figure(figsize=(fig_width, fig_height))\n",
      "\n",
      "Use standard chart setup:\n",
      "# Set figure size and style\n",
      "plt.figure(figsize=(8, 5))\n",
      "# Set seaborn default style and color palette\n",
      "sns.set_theme(style=\"whitegrid\")  \n",
      "sns.set_palette('pastel')\n",
      "\n",
      "For time-based charts:\n",
      "\n",
      "\n",
      "Use string dates on x-axis (converted using strftime)\n",
      "Rotate labels: plt.xticks(rotation=45, ha='right')\n",
      "Add gridlines: plt.grid(True, alpha=0.3)\n",
      "\n",
      "For large numbers:\n",
      "Format y-axis with K/M suffixes using:\n",
      "\n",
      "Always include:\n",
      "\n",
      "Clear title (plt.title())\n",
      "Axis labels (plt.xlabel(), plt.ylabel())\n",
      "plt.tight_layout() at the end\n",
      "\n",
      "\n",
      "For specific chart types:\n",
      "\n",
      "Time series: sns.lineplot() with marker='o'\n",
      "Rankings: sns.barplot() with descending sort\n",
      "Comparisons: sns.barplot() or sns.boxplot()\n",
      "Distributions: sns.histplot() or sns.kdeplot()\n",
      "\n",
      "Return only the Python code without any explanation or markdown formatting.\n",
      "\n",
      "Finally, provide the answer to the question in natural language inside <answer> tags. Be sure to\n",
      "include any key variables that you calculated in the code inside {}.\n",
      "\n"
     ]
    }
   ],
   "source": [
    "print(agent_instance.prompt.format(data_description=data_description,\n",
    "                                   question=question+f\"Use these parameters to filter data: {extracted_params}\"))"
   ]
  },
  {
   "cell_type": "code",
   "execution_count": 26,
   "id": "391141f7-8de2-4f9b-96b0-121add840ddd",
   "metadata": {
    "scrolled": true
   },
   "outputs": [
    {
     "name": "stdout",
     "output_type": "stream",
     "text": [
      "Extracting parameters from question...\n",
      "{\n",
      "    \"start_date\": \"2024-05-01\",\n",
      "    \"end_date\": \"2024-10-31\",\n",
      "    \"group_method\": \"Customer Level\",\n",
      "    \"all_post_code\": None,\n",
      "    \"all_customers\": True,\n",
      "    \"selected_postcodes\": [],\n",
      "    \"selected_customers\": [],\n",
      "    \"scenario\": None,\n",
      "    \"shipment_window_range\": [1, 10],\n",
      "    \"total_shipment_capacity\": 36,\n",
      "    \"utilization_threshold\": 95\n",
      "}\n",
      "[]\n",
      "[]\n",
      "Insights Agent, Response Text\n",
      " <approach>\n",
      "To answer this question, I will need to:\n",
      "1. Filter the data for shipments between '2024-05-01' and '2024-10-31'.\n",
      "2. Group the data by 'Customer' and calculate the total pallets and total cost for each customer.\n",
      "3. Calculate the cost per pallet for each customer.\n",
      "4. Identify the top 50 customers by total pallets.\n",
      "5. From these top 50 customers, find the top 10 customers with the highest cost per pallet.\n",
      "6. Visualize the top 10 customers with the highest cost per pallet using a bar chart.\n",
      "</approach>\n",
      "\n",
      "<code>\n",
      "import pandas as pd\n",
      "\n",
      "# Convert SHIPPED_DATE to datetime\n",
      "df['SHIPPED_DATE'] = pd.to_datetime(df['SHIPPED_DATE'], format='%d-%m-%Y')\n",
      "\n",
      "# Filter data for the last 6 months\n",
      "filtered_df = df[(df['SHIPPED_DATE'] >= '2024-05-01') & (df['SHIPPED_DATE'] <= '2024-10-31')]\n",
      "\n",
      "# Group by Customer and calculate total pallets and total cost\n",
      "customer_group = filtered_df.groupby('Customer').agg({'Total_Pallets': 'sum', 'Cost': 'sum'}).reset_index()\n",
      "\n",
      "# Calculate cost per pallet\n",
      "customer_group['Cost_per_Pallet'] = customer_group['Cost'] / customer_group['Total_Pallets']\n",
      "\n",
      "# Identify the top 50 customers by total pallets\n",
      "top_50_customers = customer_group.nlargest(50, 'Total_Pallets')\n",
      "\n",
      "# Find the top 10 customers with the highest cost per pallet\n",
      "top_10_customers = top_50_customers.nlargest(10, 'Cost_per_Pallet')\n",
      "\n",
      "top_10_customers\n",
      "</code>\n",
      "\n",
      "<chart>\n",
      "import pandas as pd\n",
      "import matplotlib.pyplot as plt\n",
      "import seaborn as sns\n",
      "\n",
      "# Set dynamic figure size based on data\n",
      "num_categories = min(10, len(top_10_customers))  # Show max 10 items by default\n",
      "base_width = 8  # Minimum width\n",
      "width_per_category = 1.2  # Additional width per category\n",
      "fig_width = max(base_width, num_categories * width_per_category)\n",
      "fig_height = 6  # Base height\n",
      "plt.figure(figsize=(fig_width, fig_height))\n",
      "\n",
      "# Set seaborn default style and color palette\n",
      "sns.set_theme(style=\"whitegrid\")  \n",
      "sns.set_palette('pastel')\n",
      "\n",
      "# Plot the top 10 customers with the highest cost per pallet\n",
      "sns.barplot(data=top_10_customers, x='Customer', y='Cost_per_Pallet', order=top_10_customers.sort_values('Cost_per_Pallet', ascending=False)['Customer'])\n",
      "\n",
      "# Rotate x-labels\n",
      "plt.xticks(rotation=45, ha='right')\n",
      "\n",
      "# Add title and labels\n",
      "plt.title('Top 10 Customers with Highest Cost per Pallet')\n",
      "plt.xlabel('Customer')\n",
      "plt.ylabel('Cost per Pallet (£)')\n",
      "\n",
      "# Add gridlines\n",
      "plt.grid(True, alpha=0.3)\n",
      "\n",
      "# Adjust layout\n",
      "plt.tight_layout()\n",
      "\n",
      "# Show plot\n",
      "plt.show()\n",
      "</chart>\n",
      "\n",
      "<answer>\n",
      "The top 10 customers with the highest cost per pallet among the top 50 customers by size from May 2024 to October 2024 are: {top_10_customers['Customer'].tolist()} with respective cost per pallet values of {top_10_customers['Cost_per_Pallet'].tolist()}.\n",
      "</answer>\n"
     ]
    }
   ],
   "source": [
    "response =agent_instance.generate_response(question)"
   ]
  },
  {
   "cell_type": "code",
   "execution_count": 39,
   "id": "c8881b63-201e-4b73-b388-8cadeb685d3f",
   "metadata": {},
   "outputs": [
    {
     "name": "stdout",
     "output_type": "stream",
     "text": [
      "The top 10 customers with the highest cost per pallet among the top 50 customers by size in the last 6 months are:\n",
      "\n",
      "1. PRIMA BRANDS LTD - 155.70\n",
      "2. ASDA GRANGEMOUTH ADC 7491 - 93.52\n",
      "3. ALDI STORES LTD (BATHGATE) - 81.31\n",
      "4. ASDA WAL-MART STORES - 53.42\n",
      "5. ASDA GALLEON BOULEVARD 7442 - 53.26\n",
      "6. ASDA CHEPSTOW ADC2 7441 - 53.19\n",
      "7. ALDI STORES LTD (SWINDON) - 49.25\n",
      "8. DAY LEWIS MEDICAL LIMITED - 49.00\n",
      "9. T J MORRIS LTD (SOLSTICE BUS.) - 47.85\n",
      "10. TESCO GROCERY DIST'N CENTRE (R) - 43.29\n"
     ]
    }
   ],
   "source": [
    "print(res['output'])"
   ]
  },
  {
   "cell_type": "code",
   "execution_count": 27,
   "id": "45fabbd2-4f62-4fe4-ad26-8a5d5a1e5280",
   "metadata": {},
   "outputs": [
    {
     "name": "stdout",
     "output_type": "stream",
     "text": [
      "To answer this question, I will need to:\n",
      "1. Filter the data for shipments between '2024-05-01' and '2024-10-31'.\n",
      "2. Group the data by 'Customer' and calculate the total pallets and total cost for each customer.\n",
      "3. Calculate the cost per pallet for each customer.\n",
      "4. Identify the top 50 customers by total pallets.\n",
      "5. From these top 50 customers, find the top 10 customers with the highest cost per pallet.\n",
      "6. Visualize the top 10 customers with the highest cost per pallet using a bar chart.\n"
     ]
    },
    {
     "data": {
      "image/png": "[encoded data removed]",
      "text/plain": [
       "<IPython.core.display.Image object>"
      ]
     },
     "metadata": {},
     "output_type": "display_data"
    },
    {
     "name": "stdout",
     "output_type": "stream",
     "text": [
      "The top 10 customers with the highest cost per pallet among the top 50 customers by size from May 2024 to October 2024 are: ['PRIMA BRANDS LTD', 'UNITED DRUG DISTRIBUTORS IRELA', 'ASDA GRANGEMOUTH ADC 7491', 'ALDI STORES LTD (BATHGATE)', 'ASDA GALLEON BOULEVARD 7442', 'T J MORRIS LTD (SOLSTICE BUS.', 'ASDA WAL-MART STORES', 'ASDA CHEPSTOW ADC2 7441', 'DAY LEWIS MEDICAL LIMITED', \"TESCO GROCERY DIST'N CENTRE (R\"] with respective cost per pallet values of [155.12877358490567, 147.44356435643564, 93.06521739130434, 81.68716216216217, 54.76107382550335, 54.33512605042017, 53.779797979797976, 53.48837209302326, 52.48154761904762, 46.633333333333326].\n",
      "Code\n",
      " import pandas as pd\n",
      "\n",
      "# Convert SHIPPED_DATE to datetime\n",
      "df['SHIPPED_DATE'] = pd.to_datetime(df['SHIPPED_DATE'], format='%d-%m-%Y')\n",
      "\n",
      "# Filter data for the last 6 months\n",
      "filtered_df = df[(df['SHIPPED_DATE'] >= '2024-05-01') & (df['SHIPPED_DATE'] <= '2024-10-31')]\n",
      "\n",
      "# Group by Customer and calculate total pallets and total cost\n",
      "customer_group = filtered_df.groupby('Customer').agg({'Total_Pallets': 'sum', 'Cost': 'sum'}).reset_index()\n",
      "\n",
      "# Calculate cost per pallet\n",
      "customer_group['Cost_per_Pallet'] = customer_group['Cost'] / customer_group['Total_Pallets']\n",
      "\n",
      "# Identify the top 50 customers by total pallets\n",
      "top_50_customers = customer_group.nlargest(50, 'Total_Pallets')\n",
      "\n",
      "# Find the top 10 customers with the highest cost per pallet\n",
      "top_10_customers = top_50_customers.nlargest(10, 'Cost_per_Pallet')\n",
      "\n",
      "top_10_customers\n"
     ]
    }
   ],
   "source": [
    "print(response['approach'])\n",
    "display_saved_plot2(response['figure'])\n",
    "print(response['answer'])\n",
    "print(\"Code\\n\",response['code'])"
   ]
  },
  {
   "cell_type": "code",
   "execution_count": 25,
   "id": "a805b689-d8c6-43b5-a13d-2a36cc456068",
   "metadata": {},
   "outputs": [],
   "source": []
  },
  {
   "cell_type": "code",
   "execution_count": 26,
   "id": "29e64fcc-5c07-417d-a4fa-de219b88a3e6",
   "metadata": {},
   "outputs": [
    {
     "name": "stdout",
     "output_type": "stream",
     "text": [
      "{\n",
      "    \"start_date\": \"2024-01-01\",\n",
      "    \"end_date\": \"2024-01-31\",\n",
      "    \"group_method\": \"Customer Level\",\n",
      "    \"all_post_code\": None,\n",
      "    \"all_customers\": False,\n",
      "    \"selected_postcodes\": [],\n",
      "    \"selected_customers\": [\"ASDA WAL-MART STORES\"],\n",
      "    \"scenario\": None,\n",
      "    \"shipment_window_range\": [1, 10],\n",
      "    \"total_shipment_capacity\": 36,\n",
      "    \"utilization_threshold\": 95\n",
      "}\n",
      "['ASDA WAL-MART STORES', 'ASDA']\n",
      "[]\n"
     ]
    }
   ],
   "source": []
  },
  {
   "cell_type": "code",
   "execution_count": null,
   "id": "92628df1-3f55-4035-b0b7-18a074c30755",
   "metadata": {},
   "outputs": [],
   "source": []
  },
  {
   "cell_type": "code",
   "execution_count": null,
   "id": "a23a5b2b-665f-4247-82c0-f9550776eaa7",
   "metadata": {},
   "outputs": [],
   "source": []
  },
  {
   "cell_type": "code",
   "execution_count": null,
   "id": "5e426a0a-17ba-426e-8078-9025fc4c9a11",
   "metadata": {},
   "outputs": [],
   "source": []
  },
  {
   "cell_type": "code",
   "execution_count": 28,
   "id": "64420104-4f85-4ab2-ad6f-ab3909f2cc90",
   "metadata": {},
   "outputs": [],
   "source": [
    "# prompt_temp = ChatPromptTemplate.from_messages(\n",
    "#             [\n",
    "#                 (\"system\", agent_instance.prompt.strip()),\n",
    "#                 MessagesPlaceholder(variable_name=\"messages\"),\n",
    "#             ]\n",
    "#         )"
   ]
  },
  {
   "cell_type": "code",
   "execution_count": 29,
   "id": "8c1d3f10-b2bc-4a13-a8c7-811f4d8dd143",
   "metadata": {},
   "outputs": [],
   "source": [
    "# final_prompt = prompt_temp.invoke({\"data_description\": agent_instance.data_description,\n",
    "#                                                 \"question\": question+f\"Use thes parameters to filter data: {extracted_params}\",\n",
    "#                                                 \"messages\": [HumanMessage(content=question)]})"
   ]
  },
  {
   "cell_type": "code",
   "execution_count": 30,
   "id": "6b76dcaf-53b8-4e6a-a89d-76d199d4d105",
   "metadata": {},
   "outputs": [],
   "source": [
    "# final_prompt.messages[1].type"
   ]
  },
  {
   "cell_type": "code",
   "execution_count": 31,
   "id": "8e682a6a-1649-404b-9bfb-75f6091d694e",
   "metadata": {},
   "outputs": [],
   "source": [
    "# for msg in final_prompt.messages:\n",
    "#     print(msg.type,msg.content,sep='\\n')\n",
    "#     print('-'*30)"
   ]
  },
  {
   "cell_type": "code",
   "execution_count": 39,
   "id": "d4f44bf7-da62-443d-a8f3-d7b85e9aa29d",
   "metadata": {},
   "outputs": [
    {
     "data": {
      "text/plain": [
       "'Analyze the shipment data from the last 6 months to identify the top 10 customers with the highest cost per pallet among the top 50 customers by size.'"
      ]
     },
     "execution_count": 39,
     "metadata": {},
     "output_type": "execute_result"
    }
   ],
   "source": [
    "question"
   ]
  },
  {
   "cell_type": "code",
   "execution_count": 32,
   "id": "6dddd0c0-f390-43b4-a83d-49bc96d4668f",
   "metadata": {},
   "outputs": [],
   "source": [
    "from langchain_experimental.agents import create_pandas_dataframe_agent"
   ]
  },
  {
   "cell_type": "code",
   "execution_count": 33,
   "id": "7e08e8ef-6752-41a4-a4be-749b41fb667f",
   "metadata": {},
   "outputs": [],
   "source": [
    "# df2 = df.copy()\n",
    "# df2['SHIPPED_DATE'] = pd.to_datetime(df2['SHIPPED_DATE'], dayfirst=True)"
   ]
  },
  {
   "cell_type": "code",
   "execution_count": 45,
   "id": "b20efcb5-356e-451b-9fc1-556638176869",
   "metadata": {},
   "outputs": [
    {
     "data": {
      "text/plain": [
       "'For the top 50 customers by size, please list down top 10 customers with highest cost per pallet in last 6 months'"
      ]
     },
     "execution_count": 45,
     "metadata": {},
     "output_type": "execute_result"
    }
   ],
   "source": [
    "ques"
   ]
  },
  {
   "cell_type": "code",
   "execution_count": 117,
   "id": "740f1546-2042-419d-9f15-ab49f4c07874",
   "metadata": {},
   "outputs": [],
   "source": [
    "ques = \"Identify the top customer for January 2024?\""
   ]
  },
  {
   "cell_type": "code",
   "execution_count": 118,
   "id": "a1b590b6-16ff-49c4-83ad-9fce4e9eec16",
   "metadata": {},
   "outputs": [],
   "source": [
    "text = f\"\"\"For a given question '{ques}' identify the following parameters, which are required to be passed into different algos. So, please focus on \n",
    "extracting the correct parameters for following variables: <`start_date`,`end_date`>. This will be applied to filter data. Identify and use\n",
    "relevant column for extracting these variables. Do not assume anything rather try to deduce and arrive at the results. Keep your answer as concise as possible.\"\"\""
   ]
  },
  {
   "cell_type": "code",
   "execution_count": 119,
   "id": "5bad0116-3976-459d-9bb7-00ea3cbfdc1a",
   "metadata": {},
   "outputs": [],
   "source": [
    "res = create_pandas_dataframe_agent(\n",
    "    llm,df,\n",
    "    verbose=False, allow_dangerous_code=True,\n",
    "    handle_parsing_errors=True, return_intermediate_steps=True\n",
    ").invoke(text)"
   ]
  },
  {
   "cell_type": "code",
   "execution_count": 120,
   "id": "650cbb2a-946d-427e-84af-327d91e01cae",
   "metadata": {},
   "outputs": [
    {
     "data": {
      "text/plain": [
       "\"For a given question 'Identify the top customer for January 2024?' identify the following parameters, which are required to be passed into different algos. So, please focus on \\nextracting the correct parameters for following variables: <`start_date`,`end_date`>. This will be applied to filter data. Identify and use\\nrelevant column for extracting these variables. Do not assume anything rather try to deduce and arrive at the results. Keep your answer as concise as possible.\""
      ]
     },
     "execution_count": 120,
     "metadata": {},
     "output_type": "execute_result"
    }
   ],
   "source": [
    "text"
   ]
  },
  {
   "cell_type": "code",
   "execution_count": 121,
   "id": "a8961a53-359e-47b1-900f-8b519ffc176e",
   "metadata": {},
   "outputs": [
    {
     "data": {
      "text/plain": [
       "{'input': \"For a given question 'Identify the top customer for January 2024?' identify the following parameters, which are required to be passed into different algos. So, please focus on \\nextracting the correct parameters for following variables: <`start_date`,`end_date`>. This will be applied to filter data. Identify and use\\nrelevant column for extracting these variables. Do not assume anything rather try to deduce and arrive at the results. Keep your answer as concise as possible.\",\n",
       " 'output': \"The parameters are `start_date = '2024-01-01'` and `end_date = '2024-01-31'`.\",\n",
       " 'intermediate_steps': [(AgentAction(tool='Define the start and end dates for January 2024.', tool_input=\"```python\\nstart_date = '2024-01-01'\\nend_date = '2024-01-31'\\n(start_date, end_date)\\n```\\n\", log=\"Thought: To identify the top customer for January 2024, we need to filter the data for that specific month. The relevant column for filtering by date is `SHIPPED_DATE`. We need to determine the start and end dates for January 2024.\\n\\nAction: Define the start and end dates for January 2024.\\n\\nAction Input: \\n```python\\nstart_date = '2024-01-01'\\nend_date = '2024-01-31'\\n(start_date, end_date)\\n```\\n\"),\n",
       "   'Define the start and end dates for January 2024. is not a valid tool, try one of [python_repl_ast].')]}"
      ]
     },
     "execution_count": 121,
     "metadata": {},
     "output_type": "execute_result"
    }
   ],
   "source": [
    "res"
   ]
  },
  {
   "cell_type": "code",
   "execution_count": 122,
   "id": "9d6fe79a-79fa-4ccd-9564-1fb2fc1a2ffa",
   "metadata": {},
   "outputs": [
    {
     "name": "stdout",
     "output_type": "stream",
     "text": [
      "The parameters are `start_date = '2024-01-01'` and `end_date = '2024-01-31'`.\n"
     ]
    }
   ],
   "source": [
    "print(res['output'])"
   ]
  },
  {
   "cell_type": "code",
   "execution_count": 115,
   "id": "7ffea397-7dd7-45aa-a704-832a3139ec39",
   "metadata": {},
   "outputs": [],
   "source": [
    "artifacts,_ = res['intermediate_steps'][0]"
   ]
  },
  {
   "cell_type": "code",
   "execution_count": 116,
   "id": "af7c98bf-e0b3-471f-848b-0436632b5210",
   "metadata": {},
   "outputs": [
    {
     "name": "stdout",
     "output_type": "stream",
     "text": [
      "Thought: To determine the `start_date` and `end_date` for filtering the data, we need to consider the \"last 6 months\" from the most recent date in the `SHIPPED_DATE` column. We will first find the maximum date in the `SHIPPED_DATE` column to determine the `end_date`, and then calculate the `start_date` by subtracting 6 months from the `end_date`.\n",
      "\n",
      "Action: python_repl_ast\n",
      "Action Input: \n",
      "```python\n",
      "import pandas as pd\n",
      "from dateutil.relativedelta import relativedelta\n",
      "\n",
      "# Convert SHIPPED_DATE to datetime\n",
      "df['SHIPPED_DATE'] = pd.to_datetime(df['SHIPPED_DATE'])\n",
      "\n",
      "# Find the maximum date in the SHIPPED_DATE column\n",
      "end_date = df['SHIPPED_DATE'].max()\n",
      "\n",
      "# Calculate the start date by subtracting 6 months from the end date\n",
      "start_date = end_date - relativedelta(months=6)\n",
      "\n",
      "start_date, end_date\n",
      "```\n",
      "\n"
     ]
    }
   ],
   "source": [
    "print(artifacts.log)"
   ]
  },
  {
   "cell_type": "code",
   "execution_count": 57,
   "id": "c4919099-10ff-4f0d-a77b-8fcafa60c226",
   "metadata": {},
   "outputs": [
    {
     "data": {
      "text/plain": [
       "{'input': \"For a given question 'For the top 50 customers by size, please list down top 10 customers with highest cost per pallet in last 6 months' identify the following parameters, which are required to be passed into different algos. So, please focus on \\nextracting the correct parameters for following variables: <`start_date`,`end_date`>. This will be applied to filter data. Identify and use\\nrelevant column for extracting these variables. \",\n",
       " 'output': 'The `start_date` is September 1, 2024, and the `end_date` is February 28, 2025.',\n",
       " 'intermediate_steps': [(AgentAction(tool='python_repl_ast', tool_input='```python\\nfrom datetime import datetime, timedelta\\n\\n# Current date\\nend_date = datetime.now()\\n\\n# Date 6 months ago\\nstart_date = end_date - timedelta(days=6*30)  # Approximation of 6 months\\n\\nstart_date, end_date\\n```', log=\"To determine the `start_date` and `end_date` for filtering the data, we need to focus on the `SHIPPED_DATE` column, which contains the dates of the shipments. The question asks for data from the last 6 months. \\n\\nTo extract the correct parameters for `<start_date, end_date>`, we need to:\\n1. Determine the current date.\\n2. Calculate the date 6 months prior to the current date to get the `start_date`.\\n3. Use the current date as the `end_date`.\\n\\nLet's calculate these dates using Python. \\n\\nThought: I will calculate the current date and the date 6 months ago to determine the `start_date` and `end_date`.\\nAction: python_repl_ast\\nAction Input: \\n```python\\nfrom datetime import datetime, timedelta\\n\\n# Current date\\nend_date = datetime.now()\\n\\n# Date 6 months ago\\nstart_date = end_date - timedelta(days=6*30)  # Approximation of 6 months\\n\\nstart_date, end_date\\n```\"),\n",
       "   (datetime.datetime(2024, 10, 5, 16, 59, 45, 656891),\n",
       "    datetime.datetime(2025, 4, 3, 16, 59, 45, 656891))),\n",
       "  (AgentAction(tool='python_repl_ast', tool_input=\"```python\\n# Convert SHIPPED_DATE to datetime\\ndf['SHIPPED_DATE'] = pd.to_datetime(df['SHIPPED_DATE'])\\n\\n# Find the maximum date in the SHIPPED_DATE column\\ncurrent_date = df['SHIPPED_DATE'].max()\\n\\n# Calculate the start date as 6 months before the current date\\nstart_date = current_date - timedelta(days=6*30)  # Approximation of 6 months\\n\\ncurrent_date, start_date\\n```\", log=\"The calculated `start_date` and `end_date` are incorrect because the current date used in the calculation is set in the future (2025). I need to recalculate these dates using the correct current date, which should be based on the latest date in the `SHIPPED_DATE` column of the dataframe.\\n\\nLet's find the maximum date in the `SHIPPED_DATE` column to use as the current date, and then calculate the `start_date` and `end_date` accordingly.\\n\\nAction: python_repl_ast\\nAction Input: \\n```python\\n# Convert SHIPPED_DATE to datetime\\ndf['SHIPPED_DATE'] = pd.to_datetime(df['SHIPPED_DATE'])\\n\\n# Find the maximum date in the SHIPPED_DATE column\\ncurrent_date = df['SHIPPED_DATE'].max()\\n\\n# Calculate the start date as 6 months before the current date\\nstart_date = current_date - timedelta(days=6*30)  # Approximation of 6 months\\n\\ncurrent_date, start_date\\n```\"),\n",
       "   \"NameError: name 'pd' is not defined\"),\n",
       "  (AgentAction(tool='python_repl_ast', tool_input=\"```python\\nimport pandas as pd\\nfrom datetime import timedelta\\n\\n# Convert SHIPPED_DATE to datetime\\ndf['SHIPPED_DATE'] = pd.to_datetime(df['SHIPPED_DATE'])\\n\\n# Find the maximum date in the SHIPPED_DATE column\\ncurrent_date = df['SHIPPED_DATE'].max()\\n\\n# Calculate the start date as 6 months before the current date\\nstart_date = current_date - timedelta(days=6*30)  # Approximation of 6 months\\n\\ncurrent_date, start_date\\n```\", log=\"It seems I forgot to import the `pandas` library, which is necessary to convert the `SHIPPED_DATE` column to datetime format. I will import `pandas` and then proceed with the calculation of the `start_date` and `end_date`.\\n\\nAction: python_repl_ast\\nAction Input: \\n```python\\nimport pandas as pd\\nfrom datetime import timedelta\\n\\n# Convert SHIPPED_DATE to datetime\\ndf['SHIPPED_DATE'] = pd.to_datetime(df['SHIPPED_DATE'])\\n\\n# Find the maximum date in the SHIPPED_DATE column\\ncurrent_date = df['SHIPPED_DATE'].max()\\n\\n# Calculate the start date as 6 months before the current date\\nstart_date = current_date - timedelta(days=6*30)  # Approximation of 6 months\\n\\ncurrent_date, start_date\\n```\"),\n",
       "   (Timestamp('2025-02-28 00:00:00'), Timestamp('2024-09-01 00:00:00')))]}"
      ]
     },
     "execution_count": 57,
     "metadata": {},
     "output_type": "execute_result"
    }
   ],
   "source": [
    "res"
   ]
  },
  {
   "cell_type": "code",
   "execution_count": 55,
   "id": "a8af6e37-2efa-42c8-8cb6-b1b28f0b05ec",
   "metadata": {},
   "outputs": [
    {
     "name": "stdout",
     "output_type": "stream",
     "text": [
      "```python\n",
      "# Convert SHIPPED_DATE to datetime\n",
      "df['SHIPPED_DATE'] = pd.to_datetime(df['SHIPPED_DATE'])\n",
      "\n",
      "# Find the maximum date in the SHIPPED_DATE column\n",
      "current_date = df['SHIPPED_DATE'].max()\n",
      "\n",
      "# Calculate the start date as 6 months before the current date\n",
      "start_date = current_date - timedelta(days=6*30)  # Approximation of 6 months\n",
      "\n",
      "current_date, start_date\n",
      "```\n"
     ]
    }
   ],
   "source": [
    "print(artifacts.tool_input)"
   ]
  },
  {
   "cell_type": "code",
   "execution_count": 37,
   "id": "07070e84-5e03-48af-b81f-3b4f338f2e37",
   "metadata": {},
   "outputs": [
    {
     "data": {
      "text/plain": [
       "{'input': 'Analyze shipment data from the last 6 months to identify the top 10 customers with the highest cost per pallet among the top 50 customers by size.',\n",
       " 'output': \"The top 10 customers with the highest cost per pallet among the top 50 customers by size in the last 6 months are:\\n\\n1. PRIMA BRANDS LTD - 155.70\\n2. ASDA GRANGEMOUTH ADC 7491 - 93.52\\n3. ALDI STORES LTD (BATHGATE) - 81.31\\n4. ASDA WAL-MART STORES - 53.42\\n5. ASDA GALLEON BOULEVARD 7442 - 53.26\\n6. ASDA CHEPSTOW ADC2 7441 - 53.19\\n7. ALDI STORES LTD (SWINDON) - 49.25\\n8. DAY LEWIS MEDICAL LIMITED - 49.00\\n9. T J MORRIS LTD (SOLSTICE BUS.) - 47.85\\n10. TESCO GROCERY DIST'N CENTRE (R) - 43.29\",\n",
       " 'intermediate_steps': [(AgentAction(tool='python_repl_ast', tool_input=\"```python\\nimport pandas as pd\\nfrom datetime import datetime, timedelta\\n\\n# Convert SHIPPED_DATE to datetime\\ndf['SHIPPED_DATE'] = pd.to_datetime(df['SHIPPED_DATE'])\\n\\n# Filter for the last 6 months\\nsix_months_ago = datetime.now() - timedelta(days=6*30)\\ndf_last_6_months = df[df['SHIPPED_DATE'] >= six_months_ago]\\n\\ndf_last_6_months.head()\\n```\", log=\"To analyze the shipment data from the last 6 months and identify the top 10 customers with the highest cost per pallet among the top 50 customers by size, we need to follow these steps:\\n\\n1. Filter the data for the last 6 months.\\n2. Calculate the total number of pallets for each customer to determine the top 50 customers by size.\\n3. Calculate the cost per pallet for each customer.\\n4. Identify the top 10 customers with the highest cost per pallet among the top 50 customers by size.\\n\\nLet's execute these steps in the Python environment.\\n\\nThought: I will first filter the data for the last 6 months.\\nAction: python_repl_ast\\nAction Input: \\n```python\\nimport pandas as pd\\nfrom datetime import datetime, timedelta\\n\\n# Convert SHIPPED_DATE to datetime\\ndf['SHIPPED_DATE'] = pd.to_datetime(df['SHIPPED_DATE'])\\n\\n# Filter for the last 6 months\\nsix_months_ago = datetime.now() - timedelta(days=6*30)\\ndf_last_6_months = df[df['SHIPPED_DATE'] >= six_months_ago]\\n\\ndf_last_6_months.head()\\n```\"),\n",
       "           PROD_TYPE                    Customer SHIPPED_DATE  Total_Orders  \\\n",
       "   10120  AMBCONTROL     BOOTS COMPANY PLC (SSC)   2024-10-10            14   \n",
       "   10121  AMBCONTROL                POUNDLAND DC   2024-10-10             2   \n",
       "   10122  AMBCONTROL                        ASDA   2024-10-10             3   \n",
       "   10123  AMBCONTROL                   ALLOGA UK   2024-10-10             2   \n",
       "   10124  AMBCONTROL  TESCO GROCERY DEPT (RUGBY)   2024-10-10             3   \n",
       "   \n",
       "          Total_Pallets  Distance    Cost SHORT_POSTCODE  \n",
       "   10120             54      29.8   958.2             NG  \n",
       "   10121             53     175.3  1818.4             WN  \n",
       "   10122             19      93.7   400.5             LE  \n",
       "   10123             47      12.2   648.9             NG  \n",
       "   10124             55     107.4  1194.5             CV  ),\n",
       "  (AgentAction(tool='python_repl_ast', tool_input=\"```python\\n# Calculate total pallets for each customer\\ncustomer_pallets = df_last_6_months.groupby('Customer')['Total_Pallets'].sum()\\n\\n# Get the top 50 customers by total pallets\\ntop_50_customers = customer_pallets.nlargest(50)\\n\\ntop_50_customers.head()\\n```\", log=\"The data has been successfully filtered for the last 6 months. Now, I will calculate the total number of pallets for each customer to determine the top 50 customers by size.\\n\\nAction: python_repl_ast\\nAction Input: \\n```python\\n# Calculate total pallets for each customer\\ncustomer_pallets = df_last_6_months.groupby('Customer')['Total_Pallets'].sum()\\n\\n# Get the top 50 customers by total pallets\\ntop_50_customers = customer_pallets.nlargest(50)\\n\\ntop_50_customers.head()\\n```\"),\n",
       "   Customer\n",
       "   TESCO GROCERY DEPT (RUGBY)        2782\n",
       "   BOOTS COMPANY PLC (SSC)           2681\n",
       "   WM MORRISONS SUPERMARKET LIMIT    1735\n",
       "   ASDA                              1144\n",
       "   ALLOGA UK                         1026\n",
       "   Name: Total_Pallets, dtype: int64),\n",
       "  (AgentAction(tool='python_repl_ast', tool_input=\"```python\\n# Calculate total cost for each customer\\ncustomer_cost = df_last_6_months.groupby('Customer')['Cost'].sum()\\n\\n# Calculate cost per pallet for each customer\\ncost_per_pallet = customer_cost / customer_pallets\\n\\n# Filter for the top 50 customers\\ntop_50_cost_per_pallet = cost_per_pallet[top_50_customers.index]\\n\\n# Get the top 10 customers with the highest cost per pallet\\ntop_10_highest_cost_per_pallet = top_50_cost_per_pallet.nlargest(10)\\n\\ntop_10_highest_cost_per_pallet\\n```\", log=\"I have identified the top 50 customers by total pallets. Now, I will calculate the cost per pallet for each of these top 50 customers and then identify the top 10 customers with the highest cost per pallet.\\n\\nAction: python_repl_ast\\nAction Input: \\n```python\\n# Calculate total cost for each customer\\ncustomer_cost = df_last_6_months.groupby('Customer')['Cost'].sum()\\n\\n# Calculate cost per pallet for each customer\\ncost_per_pallet = customer_cost / customer_pallets\\n\\n# Filter for the top 50 customers\\ntop_50_cost_per_pallet = cost_per_pallet[top_50_customers.index]\\n\\n# Get the top 10 customers with the highest cost per pallet\\ntop_10_highest_cost_per_pallet = top_50_cost_per_pallet.nlargest(10)\\n\\ntop_10_highest_cost_per_pallet\\n```\"),\n",
       "   Customer\n",
       "   PRIMA BRANDS LTD                  155.701538\n",
       "   ASDA GRANGEMOUTH ADC 7491          93.522772\n",
       "   ALDI STORES LTD (BATHGATE)         81.306593\n",
       "   ASDA WAL-MART STORES               53.418182\n",
       "   ASDA GALLEON BOULEVARD 7442        53.263087\n",
       "   ASDA CHEPSTOW ADC2 7441            53.189320\n",
       "   ALDI STORES LTD (SWINDON)          49.254795\n",
       "   DAY LEWIS MEDICAL LIMITED          49.002532\n",
       "   T J MORRIS LTD (SOLSTICE BUS.      47.853056\n",
       "   TESCO GROCERY DIST'N CENTRE (R     43.287569\n",
       "   dtype: float64)]}"
      ]
     },
     "execution_count": 37,
     "metadata": {},
     "output_type": "execute_result"
    }
   ],
   "source": [
    "res"
   ]
  },
  {
   "cell_type": "code",
   "execution_count": 38,
   "id": "8db06a56-6aad-49d9-8640-e40edd9facde",
   "metadata": {},
   "outputs": [
    {
     "name": "stdout",
     "output_type": "stream",
     "text": [
      "The top 10 customers with the highest cost per pallet among the top 50 customers by size in the last 6 months are:\n",
      "\n",
      "1. PRIMA BRANDS LTD - 155.70\n",
      "2. ASDA GRANGEMOUTH ADC 7491 - 93.52\n",
      "3. ALDI STORES LTD (BATHGATE) - 81.31\n",
      "4. ASDA WAL-MART STORES - 53.42\n",
      "5. ASDA GALLEON BOULEVARD 7442 - 53.26\n",
      "6. ASDA CHEPSTOW ADC2 7441 - 53.19\n",
      "7. ALDI STORES LTD (SWINDON) - 49.25\n",
      "8. DAY LEWIS MEDICAL LIMITED - 49.00\n",
      "9. T J MORRIS LTD (SOLSTICE BUS.) - 47.85\n",
      "10. TESCO GROCERY DIST'N CENTRE (R) - 43.29\n"
     ]
    }
   ],
   "source": [
    "print(res['output'])"
   ]
  },
  {
   "cell_type": "code",
   "execution_count": 93,
   "id": "0a9def1f-3da5-4f03-9ad3-2fb14841cc3b",
   "metadata": {},
   "outputs": [],
   "source": [
    "# res2 = create_pandas_dataframe_agent(\n",
    "#     llm,df2,\n",
    "#     verbose=False, allow_dangerous_code=True,\n",
    "#     handle_parsing_errors=True, return_intermediate_steps=True\n",
    "# ).invoke(\"What's the timeperiod for this data? I want to know about the starting and ending dates for this data.\")"
   ]
  },
  {
   "cell_type": "code",
   "execution_count": 94,
   "id": "0f0ee98f-5f8b-4b15-b04f-0df60fc039f0",
   "metadata": {},
   "outputs": [
    {
     "data": {
      "text/plain": [
       "{'input': \"What's the timeperiod for this data? I want to know about the starting and ending dates for this data.\",\n",
       " 'output': 'The time period for this data starts on January 2, 2023, and ends on February 28, 2025.',\n",
       " 'intermediate_steps': [(AgentAction(tool='python_repl_ast', tool_input=\"df['SHIPPED_DATE'].min(), df['SHIPPED_DATE'].max()\", log=\"Thought: To determine the time period for the data, I need to find the minimum and maximum dates in the `SHIPPED_DATE` column of the dataframe `df`.\\nAction: python_repl_ast\\nAction Input: df['SHIPPED_DATE'].min(), df['SHIPPED_DATE'].max()\"),\n",
       "   (Timestamp('2023-01-02 00:00:00'), Timestamp('2025-02-28 00:00:00')))]}"
      ]
     },
     "execution_count": 94,
     "metadata": {},
     "output_type": "execute_result"
    }
   ],
   "source": [
    "res2"
   ]
  },
  {
   "cell_type": "code",
   "execution_count": 91,
   "id": "1a3cca53-9cb4-4b71-b4f0-86d93c5ca279",
   "metadata": {},
   "outputs": [
    {
     "data": {
      "text/plain": [
       "{'input': \"What's the timeperiod for this data? I want to know about the starting and ending dates for this data.\",\n",
       " 'output': 'The data covers the period from January 1, 2024, to October 31, 2024.',\n",
       " 'intermediate_steps': [(AgentAction(tool='python_repl_ast', tool_input=\"df['SHIPPED_DATE'].min(), df['SHIPPED_DATE'].max()\", log=\"Thought: To determine the time period for the data, I need to find the minimum and maximum dates in the `SHIPPED_DATE` column of the dataframe `df`.\\nAction: python_repl_ast\\nAction Input: df['SHIPPED_DATE'].min(), df['SHIPPED_DATE'].max()\"),\n",
       "   ('01-01-2024', '31-10-2024'))]}"
      ]
     },
     "execution_count": 91,
     "metadata": {},
     "output_type": "execute_result"
    }
   ],
   "source": [
    "res"
   ]
  },
  {
   "cell_type": "markdown",
   "id": "48f1cea4-b37e-48ae-9318-7d389686bb91",
   "metadata": {},
   "source": [
    "-----"
   ]
  },
  {
   "cell_type": "code",
   "execution_count": 86,
   "id": "8f22effc-d6ec-4c69-955a-393ac75a854b",
   "metadata": {},
   "outputs": [],
   "source": [
    "cat = 'Prescription'\n",
    "cat_val = '1'\n",
    "start_val = '1'\n",
    "end_val = '28'"
   ]
  },
  {
   "cell_type": "code",
   "execution_count": 105,
   "id": "a8996b84-7986-4b35-b1ca-945b77955151",
   "metadata": {},
   "outputs": [],
   "source": [
    "cat_ = 'Probiotics'\n",
    "cat_val_ = '3'\n",
    "start_val_ = '1'\n",
    "end_val_ = '17'"
   ]
  },
  {
   "cell_type": "code",
   "execution_count": null,
   "id": "79d64ce1-6b1b-4554-a57b-7b87babb414c",
   "metadata": {},
   "outputs": [],
   "source": []
  },
  {
   "cell_type": "code",
   "execution_count": 254,
   "id": "8e0d2a73-762a-4096-ba7e-861751304496",
   "metadata": {},
   "outputs": [],
   "source": [
    "cat = \"LIEFSTYLE_ADVICE\"\n",
    "val = \"c6\"\n",
    "\n",
    "syn = f\"\"\"COMPUTE CON_OCC_PrescriptionInfo_{cat}= 0.\n",
    "IF ANY(1,B214r1001c1,B214r1002c1,B214r1003c1,B214r1004c1,B214r1005c1,B214r1006c1,B214r1007c1,B214r1008c1,B214r1009c1,B214r1010c1,\n",
    "B214r1011c1,B214r1013c1,B214r1014c1,B214r1015c1,B214r1016c1,B214r1017c1,B214r1018c1,B214r1019c1,B214r1020c1,\n",
    "B214r1021c1,B214r1022c1,B214r1023c1,B214r1024c1,B214r1025c1,B214r1026c1,B214r1027c1,B214r1028c1,B214r1098c1) CON_OCC_PrescriptionInfo_{cat}= 1.\n",
    "\"\"\""
   ]
  },
  {
   "cell_type": "code",
   "execution_count": 255,
   "id": "05df4ecb-f066-4722-90b6-19423bab50da",
   "metadata": {},
   "outputs": [],
   "source": [
    "text = f\"Replace `c1` with {val} in the given syntax: {syn} and rewrite it again. Only output the syntax\""
   ]
  },
  {
   "cell_type": "code",
   "execution_count": 256,
   "id": "ba42cefb-289b-4d25-adcc-0479cbddbd3c",
   "metadata": {},
   "outputs": [],
   "source": [
    "# text2 = f\"\"\"These are the parameters: `cat: {cat}, cat_val: {cat_val}, start_val: {start_val}, end_val: {end_val}` for writing a given syntax: {syn}. Now, looking at the given syntax, rewrite a new syntax.\n",
    "# For given parameters: `cat: {cat_}, cat_val: {cat_val_}, start_val: {start_val_}, end_val: {end_val_}`. Output only the syntax\"\"\""
   ]
  },
  {
   "cell_type": "code",
   "execution_count": 257,
   "id": "be938baf-a1f1-4e1e-bb07-240df7a3bed6",
   "metadata": {},
   "outputs": [],
   "source": [
    "# cat = 'Prescription'\n",
    "# val = 'Nothing'"
   ]
  },
  {
   "cell_type": "code",
   "execution_count": 258,
   "id": "598652d6-d45b-47cf-a70c-726f25f67783",
   "metadata": {},
   "outputs": [],
   "source": [
    "# syn3 = f\"\"\"COMPUTE CON_OCC_Action_LowerGI_{cat}=0.\n",
    "# IF (ANY(xSymptomsSelect,11,12,13,14,15,16,17) AND CON_OCC_Action_{cat}=1) CON_OCC_Action_LowerGI_{cat}=1.\"\"\""
   ]
  },
  {
   "cell_type": "code",
   "execution_count": 259,
   "id": "5c4cc1c8-ba7f-4637-a8c0-d3519997815d",
   "metadata": {},
   "outputs": [],
   "source": [
    "# text3 = f\"Replace `cat` : {cat} with `val`: {val} in the given syntax: {syn3} and rewrite it again. Only output the syntax\""
   ]
  },
  {
   "cell_type": "code",
   "execution_count": 260,
   "id": "0009a91d-3cd3-4ced-9737-16bf4777229e",
   "metadata": {},
   "outputs": [
    {
     "name": "stdout",
     "output_type": "stream",
     "text": [
      "COMPUTE CON_OCC_PrescriptionInfo_LIEFSTYLE_ADVICE= 0.\n",
      "IF ANY(1,B214r1001c6,B214r1002c6,B214r1003c6,B214r1004c6,B214r1005c6,B214r1006c6,B214r1007c6,B214r1008c6,B214r1009c6,B214r1010c6,\n",
      "B214r1011c6,B214r1013c6,B214r1014c6,B214r1015c6,B214r1016c6,B214r1017c6,B214r1018c6,B214r1019c6,B214r1020c6,\n",
      "B214r1021c6,B214r1022c6,B214r1023c6,B214r1024c6,B214r1025c6,B214r1026c6,B214r1027c6,B214r1028c6,B214r1098c6) CON_OCC_PrescriptionInfo_LIEFSTYLE_ADVICE= 1.\n"
     ]
    }
   ],
   "source": [
    "# response = llm.invoke(text2.format(syn=syn,cat=cat,cat_val=cat_val,start_val=start_val,end_val=end_val,\n",
    "#                                  cat_=cat_,cat_val_=cat_val_,start_val_=start_val_,end_val_=end_val_))\n",
    "response = llm.invoke(text.format(syn=syn,cat=cat,val=val))\n",
    "print(response.content)"
   ]
  },
  {
   "cell_type": "code",
   "execution_count": null,
   "id": "8218595a-dab4-44d0-8a72-9ba79409019c",
   "metadata": {},
   "outputs": [],
   "source": []
  },
  {
   "cell_type": "code",
   "execution_count": null,
   "id": "5f5e648a-5f70-4577-bed7-a165d8f176bd",
   "metadata": {},
   "outputs": [],
   "source": []
  }
 ],
 "metadata": {
  "kernelspec": {
   "display_name": "gen_ai_test",
   "language": "python",
   "name": "gen_ai_test"
  },
  "language_info": {
   "codemirror_mode": {
    "name": "ipython",
    "version": 3
   },
   "file_extension": ".py",
   "mimetype": "text/x-python",
   "name": "python",
   "nbconvert_exporter": "python",
   "pygments_lexer": "ipython3",
   "version": "3.12.9"
  }
 },
 "nbformat": 4,
 "nbformat_minor": 5
}
